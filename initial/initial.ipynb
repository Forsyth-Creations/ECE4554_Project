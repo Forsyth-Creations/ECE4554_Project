{
 "cells": [
  {
   "cell_type": "code",
   "execution_count": 6,
   "metadata": {},
   "outputs": [],
   "source": [
    "import torch\n",
    "import os\n",
    "from ultralytics import YOLO\n",
    "import cv2\n",
    "import math \n",
    "import zipfile"
   ]
  },
  {
   "cell_type": "code",
   "execution_count": 7,
   "metadata": {},
   "outputs": [
    {
     "data": {
      "text/plain": [
       "True"
      ]
     },
     "execution_count": 7,
     "metadata": {},
     "output_type": "execute_result"
    }
   ],
   "source": [
    "torch.cuda.is_available()"
   ]
  },
  {
   "cell_type": "code",
   "execution_count": 8,
   "metadata": {},
   "outputs": [],
   "source": [
    "zip_from = \"dataset.zip\"\n",
    "zip_to = \"dataset_original\""
   ]
  },
  {
   "cell_type": "code",
   "execution_count": 9,
   "metadata": {},
   "outputs": [],
   "source": [
    "# Extract the zip file\n",
    "\n",
    "with zipfile.ZipFile(zip_from, 'r') as zip_ref:\n",
    "    zip_ref.extractall(zip_to)"
   ]
  },
  {
   "cell_type": "code",
   "execution_count": 10,
   "metadata": {},
   "outputs": [],
   "source": [
    "# Get all the files in a directory\n",
    "\n",
    "directories = [\"test\", \"train\", \"valid\"]\n",
    "sub_directories = [\"rock\", \"paper\", \"scissors\"]\n",
    "\n",
    "for directory in directories:\n",
    "    for dir_index, sub_directory in enumerate(sub_directories):\n",
    "        path = os.path.join(zip_to, directory, sub_directory)\n",
    "        files = os.listdir(path)\n",
    "        # iterate over all the files\n",
    "        for idx, file in enumerate(files):\n",
    "            # read the image\n",
    "            # print(file)\n",
    "            # get the extension of the file\n",
    "            extension = file.split(\".\")[-1]\n",
    "            if (extension == \"jpg\"):\n",
    "                # rename the file with the directory name and the idx\n",
    "                new_name = sub_directory + \"_\" + str(idx) + \".jpg\"\n",
    "                # rename the file\n",
    "                os.rename(os.path.join(path, file), os.path.join(path, new_name))\n",
    "                # create an annotation file\n",
    "                annotation_file = open(os.path.join(path, new_name.split(\".\")[0] + \".txt\"), \"w\")\n",
    "                # write the string Each row is class x_center y_center width height format.\n",
    "                # class 0 0 11\n",
    "                annotation_file.write(f\"{dir_index} 0 0 1 1\")\n",
    "                # close the file\n",
    "                annotation_file.close()"
   ]
  },
  {
   "cell_type": "code",
   "execution_count": 12,
   "metadata": {},
   "outputs": [
    {
     "name": "stderr",
     "output_type": "stream",
     "text": [
      "Ultralytics YOLOv8.0.208 🚀 Python-3.10.12 torch-1.12.1+cu102 CUDA:0 (NVIDIA GeForce RTX 2070, 7966MiB)\n",
      "WARNING ⚠️ Upgrade to torch>=2.0.0 for deterministic training.\n",
      "\u001b[34m\u001b[1mengine/trainer: \u001b[0mtask=detect, mode=train, model=yolov8n.pt, data=rps.yaml, epochs=10, patience=50, batch=16, imgsz=640, save=True, save_period=-1, cache=False, device=None, workers=8, project=None, name=train5, exist_ok=False, pretrained=True, optimizer=auto, verbose=True, seed=0, deterministic=True, single_cls=False, rect=False, cos_lr=False, close_mosaic=10, resume=False, amp=True, fraction=1.0, profile=False, freeze=None, overlap_mask=True, mask_ratio=4, dropout=0.0, val=True, split=val, save_json=False, save_hybrid=False, conf=None, iou=0.7, max_det=300, half=False, dnn=False, plots=True, source=None, show=False, save_txt=False, save_conf=False, save_crop=False, show_labels=True, show_conf=True, vid_stride=1, stream_buffer=False, line_width=None, visualize=False, augment=False, agnostic_nms=False, classes=None, retina_masks=False, boxes=True, format=torchscript, keras=False, optimize=False, int8=False, dynamic=False, simplify=False, opset=None, workspace=4, nms=False, lr0=0.01, lrf=0.01, momentum=0.937, weight_decay=0.0005, warmup_epochs=3.0, warmup_momentum=0.8, warmup_bias_lr=0.1, box=7.5, cls=0.5, dfl=1.5, pose=12.0, kobj=1.0, label_smoothing=0.0, nbs=64, hsv_h=0.015, hsv_s=0.7, hsv_v=0.4, degrees=0.0, translate=0.1, scale=0.5, shear=0.0, perspective=0.0, flipud=0.0, fliplr=0.5, mosaic=1.0, mixup=0.0, copy_paste=0.0, cfg=None, tracker=botsort.yaml, save_dir=/home/forsythcreations/git/ECE4554_Project/runs/detect/train5\n",
      "Overriding model.yaml nc=80 with nc=3\n",
      "\n",
      "                   from  n    params  module                                       arguments                     \n",
      "  0                  -1  1       464  ultralytics.nn.modules.conv.Conv             [3, 16, 3, 2]                 \n",
      "  1                  -1  1      4672  ultralytics.nn.modules.conv.Conv             [16, 32, 3, 2]                \n",
      "  2                  -1  1      7360  ultralytics.nn.modules.block.C2f             [32, 32, 1, True]             \n",
      "  3                  -1  1     18560  ultralytics.nn.modules.conv.Conv             [32, 64, 3, 2]                \n",
      "  4                  -1  2     49664  ultralytics.nn.modules.block.C2f             [64, 64, 2, True]             \n",
      "  5                  -1  1     73984  ultralytics.nn.modules.conv.Conv             [64, 128, 3, 2]               \n",
      "  6                  -1  2    197632  ultralytics.nn.modules.block.C2f             [128, 128, 2, True]           \n",
      "  7                  -1  1    295424  ultralytics.nn.modules.conv.Conv             [128, 256, 3, 2]              \n",
      "  8                  -1  1    460288  ultralytics.nn.modules.block.C2f             [256, 256, 1, True]           \n",
      "  9                  -1  1    164608  ultralytics.nn.modules.block.SPPF            [256, 256, 5]                 \n",
      " 10                  -1  1         0  torch.nn.modules.upsampling.Upsample         [None, 2, 'nearest']          \n",
      " 11             [-1, 6]  1         0  ultralytics.nn.modules.conv.Concat           [1]                           \n",
      " 12                  -1  1    148224  ultralytics.nn.modules.block.C2f             [384, 128, 1]                 \n",
      " 13                  -1  1         0  torch.nn.modules.upsampling.Upsample         [None, 2, 'nearest']          \n",
      " 14             [-1, 4]  1         0  ultralytics.nn.modules.conv.Concat           [1]                           \n",
      " 15                  -1  1     37248  ultralytics.nn.modules.block.C2f             [192, 64, 1]                  \n",
      " 16                  -1  1     36992  ultralytics.nn.modules.conv.Conv             [64, 64, 3, 2]                \n",
      " 17            [-1, 12]  1         0  ultralytics.nn.modules.conv.Concat           [1]                           \n",
      " 18                  -1  1    123648  ultralytics.nn.modules.block.C2f             [192, 128, 1]                 \n",
      " 19                  -1  1    147712  ultralytics.nn.modules.conv.Conv             [128, 128, 3, 2]              \n",
      " 20             [-1, 9]  1         0  ultralytics.nn.modules.conv.Concat           [1]                           \n",
      " 21                  -1  1    493056  ultralytics.nn.modules.block.C2f             [384, 256, 1]                 \n",
      " 22        [15, 18, 21]  1    751897  ultralytics.nn.modules.head.Detect           [3, [64, 128, 256]]           \n",
      "Model summary: 225 layers, 3011433 parameters, 3011417 gradients, 8.2 GFLOPs\n",
      "\n",
      "Transferred 319/355 items from pretrained weights\n",
      "Freezing layer 'model.22.dfl.conv.weight'\n",
      "\u001b[34m\u001b[1mAMP: \u001b[0mrunning Automatic Mixed Precision (AMP) checks with YOLOv8n...\n",
      "\u001b[34m\u001b[1mAMP: \u001b[0mchecks passed ✅\n",
      "\u001b[34m\u001b[1mtrain: \u001b[0mScanning /home/forsythcreations/git/ECE4554_Project/initial/dataset_original/train/paper... 2520 images, 0 backgrounds, 0 corrupt: 100%|██████████| 2520/2520 [00:00<00:00, 3735.62it/s]\n",
      "\u001b[34m\u001b[1mtrain: \u001b[0mNew cache created: /home/forsythcreations/git/ECE4554_Project/initial/dataset_original/train/paper.cache\n",
      "\u001b[34m\u001b[1mval: \u001b[0mScanning /home/forsythcreations/git/ECE4554_Project/initial/dataset_original/valid/paper... 372 images, 0 backgrounds, 0 corrupt: 100%|██████████| 372/372 [00:00<00:00, 3932.74it/s]\n",
      "\u001b[34m\u001b[1mval: \u001b[0mNew cache created: /home/forsythcreations/git/ECE4554_Project/initial/dataset_original/valid/paper.cache\n",
      "Plotting labels to /home/forsythcreations/git/ECE4554_Project/runs/detect/train5/labels.jpg... \n",
      "\u001b[34m\u001b[1moptimizer:\u001b[0m 'optimizer=auto' found, ignoring 'lr0=0.01' and 'momentum=0.937' and determining best 'optimizer', 'lr0' and 'momentum' automatically... \n",
      "\u001b[34m\u001b[1moptimizer:\u001b[0m AdamW(lr=0.001429, momentum=0.9) with parameter groups 57 weight(decay=0.0), 64 weight(decay=0.0005), 63 bias(decay=0.0)\n",
      "Image sizes 640 train, 640 val\n",
      "Using 8 dataloader workers\n",
      "Logging results to \u001b[1m/home/forsythcreations/git/ECE4554_Project/runs/detect/train5\u001b[0m\n",
      "Starting training for 10 epochs...\n",
      "Closing dataloader mosaic\n",
      "\n",
      "      Epoch    GPU_mem   box_loss   cls_loss   dfl_loss  Instances       Size\n",
      "       1/10      2.23G     0.9652      2.742       1.59          8        640: 100%|██████████| 158/158 [00:20<00:00,  7.71it/s]\n",
      "                 Class     Images  Instances      Box(P          R      mAP50  mAP50-95): 100%|██████████| 12/12 [00:01<00:00,  9.57it/s]\n",
      "                   all        372        372      0.543      0.788      0.709      0.548\n",
      "\n",
      "      Epoch    GPU_mem   box_loss   cls_loss   dfl_loss  Instances       Size\n",
      "       2/10      2.39G     0.7093      1.378      1.363          8        640: 100%|██████████| 158/158 [00:19<00:00,  8.20it/s]\n",
      "                 Class     Images  Instances      Box(P          R      mAP50  mAP50-95): 100%|██████████| 12/12 [00:01<00:00,  9.78it/s]\n",
      "                   all        372        372      0.535      0.632      0.499      0.338\n",
      "\n",
      "      Epoch    GPU_mem   box_loss   cls_loss   dfl_loss  Instances       Size\n",
      "       3/10      2.39G     0.6249     0.8909      1.294          8        640: 100%|██████████| 158/158 [00:18<00:00,  8.34it/s]\n",
      "                 Class     Images  Instances      Box(P          R      mAP50  mAP50-95): 100%|██████████| 12/12 [00:01<00:00, 10.04it/s]\n",
      "                   all        372        372      0.946      0.946      0.982      0.667\n",
      "\n",
      "      Epoch    GPU_mem   box_loss   cls_loss   dfl_loss  Instances       Size\n",
      "       4/10      2.39G     0.5517     0.6265      1.233          8        640: 100%|██████████| 158/158 [00:18<00:00,  8.40it/s]\n",
      "                 Class     Images  Instances      Box(P          R      mAP50  mAP50-95): 100%|██████████| 12/12 [00:01<00:00, 10.19it/s]\n",
      "                   all        372        372      0.791      0.781      0.856      0.655\n",
      "\n",
      "      Epoch    GPU_mem   box_loss   cls_loss   dfl_loss  Instances       Size\n",
      "       5/10      2.39G     0.4912     0.5333      1.187          8        640: 100%|██████████| 158/158 [00:18<00:00,  8.37it/s]\n",
      "                 Class     Images  Instances      Box(P          R      mAP50  mAP50-95): 100%|██████████| 12/12 [00:01<00:00, 10.31it/s]\n",
      "                   all        372        372      0.666      0.589      0.733      0.474\n",
      "\n",
      "      Epoch    GPU_mem   box_loss   cls_loss   dfl_loss  Instances       Size\n",
      "       6/10      2.39G     0.4279     0.4388      1.133          7        640: 100%|██████████| 158/158 [00:18<00:00,  8.37it/s]\n",
      "                 Class     Images  Instances      Box(P          R      mAP50  mAP50-95): 100%|██████████| 12/12 [00:01<00:00, 10.52it/s]\n",
      "                   all        372        372      0.874      0.723      0.823      0.638\n",
      "\n",
      "      Epoch    GPU_mem   box_loss   cls_loss   dfl_loss  Instances       Size\n",
      "       7/10      2.39G     0.3921     0.3601      1.105          8        640: 100%|██████████| 158/158 [00:18<00:00,  8.36it/s]\n",
      "                 Class     Images  Instances      Box(P          R      mAP50  mAP50-95): 100%|██████████| 12/12 [00:01<00:00, 10.09it/s]\n",
      "                   all        372        372      0.941      0.789      0.875      0.674\n",
      "\n",
      "      Epoch    GPU_mem   box_loss   cls_loss   dfl_loss  Instances       Size\n",
      "       8/10      2.39G     0.3337     0.3162      1.064          8        640: 100%|██████████| 158/158 [00:18<00:00,  8.42it/s]\n",
      "                 Class     Images  Instances      Box(P          R      mAP50  mAP50-95): 100%|██████████| 12/12 [00:01<00:00, 10.14it/s]\n",
      "                   all        372        372      0.893      0.851      0.928      0.722\n",
      "\n",
      "      Epoch    GPU_mem   box_loss   cls_loss   dfl_loss  Instances       Size\n",
      "       9/10      2.39G     0.2952     0.2807      1.038          8        640: 100%|██████████| 158/158 [00:18<00:00,  8.37it/s]\n",
      "                 Class     Images  Instances      Box(P          R      mAP50  mAP50-95): 100%|██████████| 12/12 [00:01<00:00, 10.40it/s]\n",
      "                   all        372        372      0.827      0.702      0.799      0.614\n",
      "\n",
      "      Epoch    GPU_mem   box_loss   cls_loss   dfl_loss  Instances       Size\n",
      "      10/10      2.39G      0.246     0.2449      1.006          7        640: 100%|██████████| 158/158 [00:18<00:00,  8.37it/s]\n",
      "                 Class     Images  Instances      Box(P          R      mAP50  mAP50-95): 100%|██████████| 12/12 [00:01<00:00, 10.29it/s]\n",
      "                   all        372        372      0.811      0.752      0.806      0.605\n",
      "\n",
      "10 epochs completed in 0.057 hours.\n",
      "Optimizer stripped from /home/forsythcreations/git/ECE4554_Project/runs/detect/train5/weights/last.pt, 6.3MB\n",
      "Optimizer stripped from /home/forsythcreations/git/ECE4554_Project/runs/detect/train5/weights/best.pt, 6.3MB\n",
      "\n",
      "Validating /home/forsythcreations/git/ECE4554_Project/runs/detect/train5/weights/best.pt...\n",
      "Ultralytics YOLOv8.0.208 🚀 Python-3.10.12 torch-1.12.1+cu102 CUDA:0 (NVIDIA GeForce RTX 2070, 7966MiB)\n",
      "Model summary (fused): 168 layers, 3006233 parameters, 0 gradients, 8.1 GFLOPs\n",
      "                 Class     Images  Instances      Box(P          R      mAP50  mAP50-95): 100%|██████████| 12/12 [00:01<00:00,  6.44it/s]\n",
      "                   all        372        372      0.893      0.851      0.928      0.722\n",
      "                  rock        372        124      0.793      0.806      0.894      0.686\n",
      "                 paper        372        124      0.887      0.763      0.894      0.675\n",
      "              scissors        372        124          1      0.982      0.995      0.805\n",
      "Speed: 0.5ms preprocess, 1.6ms inference, 0.0ms loss, 0.6ms postprocess per image\n",
      "Results saved to \u001b[1m/home/forsythcreations/git/ECE4554_Project/runs/detect/train5\u001b[0m\n"
     ]
    }
   ],
   "source": [
    "# train a yolo model based on the dataset\n",
    "\n",
    "model = YOLO('yolov8n.pt')\n",
    "\n",
    "# model = YOLO('rps.yaml', task=\"classify\")\n",
    "\n",
    "results = model.train(data='rps.yaml', epochs=10, imgsz=640)\n",
    "\n"
   ]
  },
  {
   "cell_type": "code",
   "execution_count": 14,
   "metadata": {},
   "outputs": [],
   "source": [
    "# use the results to predict the images\n",
    "\n",
    "# path to trained weights\n",
    "weights_path = \"../runs/detect/train5/weights/best.pt\"\n",
    "\n",
    "new_model = YOLO(weights_path, task=\"detect\")"
   ]
  }
 ],
 "metadata": {
  "kernelspec": {
   "display_name": ".venv",
   "language": "python",
   "name": "python3"
  },
  "language_info": {
   "codemirror_mode": {
    "name": "ipython",
    "version": 3
   },
   "file_extension": ".py",
   "mimetype": "text/x-python",
   "name": "python",
   "nbconvert_exporter": "python",
   "pygments_lexer": "ipython3",
   "version": "3.10.12"
  }
 },
 "nbformat": 4,
 "nbformat_minor": 2
}
