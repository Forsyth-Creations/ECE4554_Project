{
 "cells": [
  {
   "cell_type": "code",
   "execution_count": 41,
   "metadata": {},
   "outputs": [],
   "source": [
    "import torch\n",
    "from ultralytics import YOLO\n",
    "import cv2\n",
    "import math \n",
    "import requests\n",
    "import zipfile\n",
    "from colorama import Fore\n",
    "# import plotly\n",
    "import plotly.express as px\n",
    "import numpy as np\n",
    "\n",
    "# import scale image from ultralytics\n",
    "from ultralytics.utils.ops import scale_image"
   ]
  },
  {
   "cell_type": "markdown",
   "metadata": {},
   "source": [
    "## Note: Roboflow attempts to download opencv-python-headless, which is known to break opencv. Only pull the dataset in through a generic request"
   ]
  },
  {
   "cell_type": "code",
   "execution_count": 42,
   "metadata": {},
   "outputs": [],
   "source": [
    "zip_from = \"dataset.zip\"\n",
    "zip_to = \"dataset_original\""
   ]
  },
  {
   "cell_type": "markdown",
   "metadata": {},
   "source": [
    "## Only needs to be run sometimes"
   ]
  },
  {
   "cell_type": "code",
   "execution_count": null,
   "metadata": {},
   "outputs": [],
   "source": [
    "params = {\n",
    "    'key': 'K1gS1XvFY3',\n",
    "}\n",
    "\n",
    "response = requests.get('https://app.roboflow.com/ds/7qMTgZgyWQ', params=params)\n",
    "\n",
    "# save the response\n",
    "with open(zip_from, 'wb') as f:\n",
    "    f.write(response.content)\n",
    "\n",
    "\n",
    "with zipfile.ZipFile(zip_from, 'r') as zip_ref:\n",
    "    zip_ref.extractall(zip_to)"
   ]
  },
  {
   "cell_type": "code",
   "execution_count": 43,
   "metadata": {},
   "outputs": [
    {
     "data": {
      "text/plain": [
       "True"
      ]
     },
     "execution_count": 43,
     "metadata": {},
     "output_type": "execute_result"
    }
   ],
   "source": [
    "torch.cuda.is_available()"
   ]
  },
  {
   "cell_type": "code",
   "execution_count": 44,
   "metadata": {},
   "outputs": [
    {
     "name": "stderr",
     "output_type": "stream",
     "text": [
      "Downloading https://github.com/ultralytics/assets/releases/download/v0.0.0/yolov8n-seg.pt to 'yolov8n-seg.pt'...\n",
      "100%|██████████| 6.73M/6.73M [00:00<00:00, 34.9MB/s]\n",
      "Ultralytics YOLOv8.0.208 🚀 Python-3.10.12 torch-1.12.1+cu102 CUDA:0 (NVIDIA GeForce RTX 2070, 7966MiB)\n",
      "WARNING ⚠️ Upgrade to torch>=2.0.0 for deterministic training.\n",
      "\u001b[34m\u001b[1mengine/trainer: \u001b[0mtask=segment, mode=train, model=yolov8s.pt, data=/home/forsythcreations/git/ECE4554_Project/initial/rpc/dataset_original/data.yaml, epochs=20, patience=50, batch=20, imgsz=640, save=True, save_period=-1, cache=False, device=None, workers=8, project=None, name=train9, exist_ok=False, pretrained=True, optimizer=auto, verbose=True, seed=0, deterministic=True, single_cls=False, rect=False, cos_lr=False, close_mosaic=10, resume=False, amp=True, fraction=1.0, profile=False, freeze=None, overlap_mask=True, mask_ratio=4, dropout=0.0, val=True, split=val, save_json=False, save_hybrid=False, conf=None, iou=0.7, max_det=300, half=False, dnn=False, plots=True, source=None, show=False, save_txt=False, save_conf=False, save_crop=False, show_labels=True, show_conf=True, vid_stride=1, stream_buffer=False, line_width=None, visualize=False, augment=False, agnostic_nms=False, classes=None, retina_masks=False, boxes=True, format=torchscript, keras=False, optimize=False, int8=False, dynamic=False, simplify=False, opset=None, workspace=4, nms=False, lr0=0.01, lrf=0.01, momentum=0.937, weight_decay=0.0005, warmup_epochs=3.0, warmup_momentum=0.8, warmup_bias_lr=0.1, box=7.5, cls=0.5, dfl=1.5, pose=12.0, kobj=1.0, label_smoothing=0.0, nbs=64, hsv_h=0.015, hsv_s=0.7, hsv_v=0.4, degrees=0.0, translate=0.1, scale=0.5, shear=0.0, perspective=0.0, flipud=0.0, fliplr=0.5, mosaic=1.0, mixup=0.0, copy_paste=0.0, cfg=None, tracker=botsort.yaml, save_dir=/home/forsythcreations/git/ECE4554_Project/segment/train9\n",
      "Overriding model.yaml nc=80 with nc=3\n",
      "\n",
      "                   from  n    params  module                                       arguments                     \n",
      "  0                  -1  1       464  ultralytics.nn.modules.conv.Conv             [3, 16, 3, 2]                 \n",
      "  1                  -1  1      4672  ultralytics.nn.modules.conv.Conv             [16, 32, 3, 2]                \n",
      "  2                  -1  1      7360  ultralytics.nn.modules.block.C2f             [32, 32, 1, True]             \n",
      "  3                  -1  1     18560  ultralytics.nn.modules.conv.Conv             [32, 64, 3, 2]                \n",
      "  4                  -1  2     49664  ultralytics.nn.modules.block.C2f             [64, 64, 2, True]             \n",
      "  5                  -1  1     73984  ultralytics.nn.modules.conv.Conv             [64, 128, 3, 2]               \n",
      "  6                  -1  2    197632  ultralytics.nn.modules.block.C2f             [128, 128, 2, True]           \n",
      "  7                  -1  1    295424  ultralytics.nn.modules.conv.Conv             [128, 256, 3, 2]              \n",
      "  8                  -1  1    460288  ultralytics.nn.modules.block.C2f             [256, 256, 1, True]           \n",
      "  9                  -1  1    164608  ultralytics.nn.modules.block.SPPF            [256, 256, 5]                 \n",
      " 10                  -1  1         0  torch.nn.modules.upsampling.Upsample         [None, 2, 'nearest']          \n",
      " 11             [-1, 6]  1         0  ultralytics.nn.modules.conv.Concat           [1]                           \n",
      " 12                  -1  1    148224  ultralytics.nn.modules.block.C2f             [384, 128, 1]                 \n",
      " 13                  -1  1         0  torch.nn.modules.upsampling.Upsample         [None, 2, 'nearest']          \n",
      " 14             [-1, 4]  1         0  ultralytics.nn.modules.conv.Concat           [1]                           \n",
      " 15                  -1  1     37248  ultralytics.nn.modules.block.C2f             [192, 64, 1]                  \n",
      " 16                  -1  1     36992  ultralytics.nn.modules.conv.Conv             [64, 64, 3, 2]                \n",
      " 17            [-1, 12]  1         0  ultralytics.nn.modules.conv.Concat           [1]                           \n",
      " 18                  -1  1    123648  ultralytics.nn.modules.block.C2f             [192, 128, 1]                 \n",
      " 19                  -1  1    147712  ultralytics.nn.modules.conv.Conv             [128, 128, 3, 2]              \n",
      " 20             [-1, 9]  1         0  ultralytics.nn.modules.conv.Concat           [1]                           \n",
      " 21                  -1  1    493056  ultralytics.nn.modules.block.C2f             [384, 256, 1]                 \n",
      " 22        [15, 18, 21]  1   1004665  ultralytics.nn.modules.head.Segment          [3, 32, 64, [64, 128, 256]]   \n",
      "YOLOv8n-seg summary: 261 layers, 3264201 parameters, 3264185 gradients, 12.1 GFLOPs\n",
      "\n",
      "Transferred 381/417 items from pretrained weights\n",
      "Freezing layer 'model.22.dfl.conv.weight'\n",
      "\u001b[34m\u001b[1mAMP: \u001b[0mrunning Automatic Mixed Precision (AMP) checks with YOLOv8n...\n",
      "\u001b[34m\u001b[1mAMP: \u001b[0mchecks passed ✅\n",
      "\u001b[34m\u001b[1mtrain: \u001b[0mScanning /home/forsythcreations/git/ECE4554_Project/initial/rpc/dataset_original/train/labels.cache... 90 images, 0 backgrounds, 0 corrupt: 100%|██████████| 90/90 [00:00<?, ?it/s]\n",
      "\u001b[34m\u001b[1mval: \u001b[0mScanning /home/forsythcreations/git/ECE4554_Project/initial/rpc/dataset_original/valid/labels.cache... 15 images, 0 backgrounds, 0 corrupt: 100%|██████████| 15/15 [00:00<?, ?it/s]\n",
      "Plotting labels to /home/forsythcreations/git/ECE4554_Project/segment/train9/labels.jpg... \n",
      "\u001b[34m\u001b[1moptimizer:\u001b[0m 'optimizer=auto' found, ignoring 'lr0=0.01' and 'momentum=0.937' and determining best 'optimizer', 'lr0' and 'momentum' automatically... \n",
      "\u001b[34m\u001b[1moptimizer:\u001b[0m AdamW(lr=0.001429, momentum=0.9) with parameter groups 66 weight(decay=0.0), 77 weight(decay=0.00046875), 76 bias(decay=0.0)\n",
      "Image sizes 640 train, 640 val\n",
      "Using 8 dataloader workers\n",
      "Logging results to \u001b[1m/home/forsythcreations/git/ECE4554_Project/segment/train9\u001b[0m\n",
      "Starting training for 20 epochs...\n",
      "\n",
      "      Epoch    GPU_mem   box_loss   seg_loss   cls_loss   dfl_loss  Instances       Size\n",
      "       1/20       3.4G     0.9647      3.687      3.254      1.362         30        640: 100%|██████████| 5/5 [00:01<00:00,  3.75it/s]\n",
      "                 Class     Images  Instances      Box(P          R      mAP50  mAP50-95)     Mask(P          R      mAP50  mAP50-95): 100%|██████████| 1/1 [00:00<00:00,  7.52it/s]\n",
      "                   all         15         15    0.00348          1      0.304      0.105    0.00348          1      0.274      0.116\n",
      "\n",
      "      Epoch    GPU_mem   box_loss   seg_loss   cls_loss   dfl_loss  Instances       Size\n",
      "       2/20       3.4G     0.9757      3.853      3.223      1.366         30        640: 100%|██████████| 5/5 [00:01<00:00,  4.79it/s]\n",
      "                 Class     Images  Instances      Box(P          R      mAP50  mAP50-95)     Mask(P          R      mAP50  mAP50-95): 100%|██████████| 1/1 [00:00<00:00,  6.16it/s]\n",
      "                   all         15         15    0.00353          1      0.344      0.112    0.00353          1      0.254      0.115\n",
      "\n",
      "      Epoch    GPU_mem   box_loss   seg_loss   cls_loss   dfl_loss  Instances       Size\n",
      "       3/20      3.41G     0.7338      2.211      2.847      1.226         28        640: 100%|██████████| 5/5 [00:01<00:00,  4.50it/s]\n",
      "                 Class     Images  Instances      Box(P          R      mAP50  mAP50-95)     Mask(P          R      mAP50  mAP50-95): 100%|██████████| 1/1 [00:00<00:00,  7.04it/s]\n",
      "                   all         15         15    0.00355          1      0.326      0.186    0.00355          1      0.326      0.223\n",
      "\n",
      "      Epoch    GPU_mem   box_loss   seg_loss   cls_loss   dfl_loss  Instances       Size\n",
      "       4/20      3.45G     0.7405      1.964      2.296      1.269         24        640: 100%|██████████| 5/5 [00:01<00:00,  4.53it/s]\n",
      "                 Class     Images  Instances      Box(P          R      mAP50  mAP50-95)     Mask(P          R      mAP50  mAP50-95): 100%|██████████| 1/1 [00:00<00:00,  8.72it/s]\n",
      "                   all         15         15    0.00347          1      0.671      0.412    0.00347          1      0.671      0.388\n",
      "\n",
      "      Epoch    GPU_mem   box_loss   seg_loss   cls_loss   dfl_loss  Instances       Size\n",
      "       5/20      3.41G     0.8096      1.854      2.103      1.255         28        640: 100%|██████████| 5/5 [00:01<00:00,  4.71it/s]\n",
      "                 Class     Images  Instances      Box(P          R      mAP50  mAP50-95)     Mask(P          R      mAP50  mAP50-95): 100%|██████████| 1/1 [00:00<00:00,  9.48it/s]\n",
      "                   all         15         15    0.00338          1      0.602      0.352    0.00338          1      0.602      0.346\n",
      "\n",
      "      Epoch    GPU_mem   box_loss   seg_loss   cls_loss   dfl_loss  Instances       Size\n",
      "       6/20      3.42G     0.7437      1.798      2.016      1.237         26        640: 100%|██████████| 5/5 [00:01<00:00,  4.84it/s]\n",
      "                 Class     Images  Instances      Box(P          R      mAP50  mAP50-95)     Mask(P          R      mAP50  mAP50-95): 100%|██████████| 1/1 [00:00<00:00, 10.05it/s]\n",
      "                   all         15         15    0.00335          1       0.61      0.369    0.00335          1       0.61      0.393\n",
      "\n",
      "      Epoch    GPU_mem   box_loss   seg_loss   cls_loss   dfl_loss  Instances       Size\n",
      "       7/20       3.4G     0.7176      1.782      1.776      1.215         30        640: 100%|██████████| 5/5 [00:01<00:00,  4.72it/s]\n",
      "                 Class     Images  Instances      Box(P          R      mAP50  mAP50-95)     Mask(P          R      mAP50  mAP50-95): 100%|██████████| 1/1 [00:00<00:00,  9.53it/s]\n",
      "                   all         15         15     0.0034          1      0.715      0.429     0.0034          1      0.715      0.438\n",
      "\n",
      "      Epoch    GPU_mem   box_loss   seg_loss   cls_loss   dfl_loss  Instances       Size\n",
      "       8/20      3.43G     0.7084      1.915      1.663        1.2         30        640: 100%|██████████| 5/5 [00:01<00:00,  4.74it/s]\n",
      "                 Class     Images  Instances      Box(P          R      mAP50  mAP50-95)     Mask(P          R      mAP50  mAP50-95): 100%|██████████| 1/1 [00:00<00:00,  9.12it/s]\n",
      "                   all         15         15    0.00343          1      0.653      0.412    0.00343          1      0.653      0.473\n",
      "\n",
      "      Epoch    GPU_mem   box_loss   seg_loss   cls_loss   dfl_loss  Instances       Size\n",
      "       9/20      3.38G     0.7832      1.947      1.688      1.226         34        640: 100%|██████████| 5/5 [00:01<00:00,  4.78it/s]\n",
      "                 Class     Images  Instances      Box(P          R      mAP50  mAP50-95)     Mask(P          R      mAP50  mAP50-95): 100%|██████████| 1/1 [00:00<00:00,  9.06it/s]\n",
      "                   all         15         15      0.712        0.4      0.636       0.41      0.712        0.4      0.636      0.408\n",
      "\n",
      "      Epoch    GPU_mem   box_loss   seg_loss   cls_loss   dfl_loss  Instances       Size\n",
      "      10/20      3.41G     0.7016      1.657      1.554      1.196         26        640: 100%|██████████| 5/5 [00:01<00:00,  4.70it/s]\n",
      "                 Class     Images  Instances      Box(P          R      mAP50  mAP50-95)     Mask(P          R      mAP50  mAP50-95): 100%|██████████| 1/1 [00:00<00:00,  8.67it/s]\n",
      "                   all         15         15      0.882      0.519      0.685      0.472      0.882      0.519      0.685      0.476\n",
      "Closing dataloader mosaic\n",
      "\n",
      "      Epoch    GPU_mem   box_loss   seg_loss   cls_loss   dfl_loss  Instances       Size\n",
      "      11/20      3.32G      0.721       1.53      2.161      1.472         10        640: 100%|██████████| 5/5 [00:01<00:00,  3.74it/s]\n",
      "                 Class     Images  Instances      Box(P          R      mAP50  mAP50-95)     Mask(P          R      mAP50  mAP50-95): 100%|██████████| 1/1 [00:00<00:00,  8.74it/s]\n",
      "                   all         15         15      0.729      0.232      0.421      0.165      0.729      0.232       0.42      0.254\n",
      "\n",
      "      Epoch    GPU_mem   box_loss   seg_loss   cls_loss   dfl_loss  Instances       Size\n",
      "      12/20      3.32G     0.7389      1.576      2.078      1.543         10        640: 100%|██████████| 5/5 [00:01<00:00,  5.00it/s]\n",
      "                 Class     Images  Instances      Box(P          R      mAP50  mAP50-95)     Mask(P          R      mAP50  mAP50-95): 100%|██████████| 1/1 [00:00<00:00,  8.66it/s]\n",
      "                   all         15         15      0.711      0.192      0.467      0.253      0.711      0.192      0.464      0.298\n",
      "\n",
      "      Epoch    GPU_mem   box_loss   seg_loss   cls_loss   dfl_loss  Instances       Size\n",
      "      13/20      3.32G      0.669      1.403      1.972      1.375         10        640: 100%|██████████| 5/5 [00:01<00:00,  4.82it/s]\n",
      "                 Class     Images  Instances      Box(P          R      mAP50  mAP50-95)     Mask(P          R      mAP50  mAP50-95): 100%|██████████| 1/1 [00:00<00:00,  8.63it/s]\n",
      "                   all         15         15      0.713      0.467      0.524      0.261      0.742      0.415      0.438      0.266\n",
      "\n",
      "      Epoch    GPU_mem   box_loss   seg_loss   cls_loss   dfl_loss  Instances       Size\n",
      "      14/20      3.32G     0.6721      1.412       1.79      1.411         10        640: 100%|██████████| 5/5 [00:01<00:00,  4.99it/s]\n",
      "                 Class     Images  Instances      Box(P          R      mAP50  mAP50-95)     Mask(P          R      mAP50  mAP50-95): 100%|██████████| 1/1 [00:00<00:00,  8.76it/s]\n",
      "                   all         15         15      0.677      0.483      0.506      0.243      0.722      0.467      0.477       0.23\n",
      "\n",
      "      Epoch    GPU_mem   box_loss   seg_loss   cls_loss   dfl_loss  Instances       Size\n",
      "      15/20      3.32G     0.6569      1.289      1.795      1.357         10        640: 100%|██████████| 5/5 [00:01<00:00,  4.99it/s]\n",
      "                 Class     Images  Instances      Box(P          R      mAP50  mAP50-95)     Mask(P          R      mAP50  mAP50-95): 100%|██████████| 1/1 [00:00<00:00,  7.88it/s]\n",
      "                   all         15         15      0.403      0.564      0.556       0.29      0.413        0.6      0.498      0.317\n",
      "\n",
      "      Epoch    GPU_mem   box_loss   seg_loss   cls_loss   dfl_loss  Instances       Size\n",
      "      16/20      3.32G     0.6457      1.335      1.753      1.395         10        640: 100%|██████████| 5/5 [00:01<00:00,  4.98it/s]\n",
      "                 Class     Images  Instances      Box(P          R      mAP50  mAP50-95)     Mask(P          R      mAP50  mAP50-95): 100%|██████████| 1/1 [00:00<00:00,  9.13it/s]\n",
      "                   all         15         15      0.424      0.547      0.529      0.305      0.424      0.547      0.518      0.359\n",
      "\n",
      "      Epoch    GPU_mem   box_loss   seg_loss   cls_loss   dfl_loss  Instances       Size\n",
      "      17/20      3.32G     0.6053      1.343       1.62      1.325         10        640: 100%|██████████| 5/5 [00:00<00:00,  5.03it/s]\n",
      "                 Class     Images  Instances      Box(P          R      mAP50  mAP50-95)     Mask(P          R      mAP50  mAP50-95): 100%|██████████| 1/1 [00:00<00:00,  9.14it/s]\n",
      "                   all         15         15      0.652      0.761      0.731      0.415      0.652      0.761      0.731      0.484\n",
      "\n",
      "      Epoch    GPU_mem   box_loss   seg_loss   cls_loss   dfl_loss  Instances       Size\n",
      "      18/20      3.32G     0.5827      1.484      1.577      1.298         10        640: 100%|██████████| 5/5 [00:01<00:00,  4.96it/s]\n",
      "                 Class     Images  Instances      Box(P          R      mAP50  mAP50-95)     Mask(P          R      mAP50  mAP50-95): 100%|██████████| 1/1 [00:00<00:00,  9.13it/s]\n",
      "                   all         15         15      0.728      0.736      0.812      0.458      0.728      0.736      0.812      0.557\n",
      "\n",
      "      Epoch    GPU_mem   box_loss   seg_loss   cls_loss   dfl_loss  Instances       Size\n",
      "      19/20      3.32G     0.6348      1.287      1.547      1.419         10        640: 100%|██████████| 5/5 [00:01<00:00,  4.98it/s]\n",
      "                 Class     Images  Instances      Box(P          R      mAP50  mAP50-95)     Mask(P          R      mAP50  mAP50-95): 100%|██████████| 1/1 [00:00<00:00,  8.95it/s]\n",
      "                   all         15         15      0.752      0.678      0.825      0.466      0.752      0.673      0.817      0.578\n",
      "\n",
      "      Epoch    GPU_mem   box_loss   seg_loss   cls_loss   dfl_loss  Instances       Size\n",
      "      20/20      3.32G     0.5456      1.168      1.535      1.256         10        640: 100%|██████████| 5/5 [00:01<00:00,  4.94it/s]\n",
      "                 Class     Images  Instances      Box(P          R      mAP50  mAP50-95)     Mask(P          R      mAP50  mAP50-95): 100%|██████████| 1/1 [00:00<00:00,  9.35it/s]\n",
      "                   all         15         15      0.752      0.733      0.867      0.478      0.753      0.728      0.811       0.58\n",
      "\n",
      "20 epochs completed in 0.008 hours.\n",
      "Optimizer stripped from /home/forsythcreations/git/ECE4554_Project/segment/train9/weights/last.pt, 6.8MB\n",
      "Optimizer stripped from /home/forsythcreations/git/ECE4554_Project/segment/train9/weights/best.pt, 6.8MB\n",
      "\n",
      "Validating /home/forsythcreations/git/ECE4554_Project/segment/train9/weights/best.pt...\n",
      "Ultralytics YOLOv8.0.208 🚀 Python-3.10.12 torch-1.12.1+cu102 CUDA:0 (NVIDIA GeForce RTX 2070, 7966MiB)\n",
      "YOLOv8n-seg summary (fused): 195 layers, 3258649 parameters, 0 gradients, 12.0 GFLOPs\n",
      "                 Class     Images  Instances      Box(P          R      mAP50  mAP50-95)     Mask(P          R      mAP50  mAP50-95): 100%|██████████| 1/1 [00:00<00:00,  9.75it/s]\n",
      "                   all         15         15      0.758      0.741      0.857      0.472      0.758      0.736        0.8       0.57\n",
      "                 paper         15          5          1      0.329      0.838      0.359          1      0.319      0.669      0.404\n",
      "                  rock         15          5          1      0.894      0.995      0.571          1      0.888      0.995      0.604\n",
      "              scissors         15          5      0.273          1      0.737      0.485      0.274          1      0.737      0.702\n",
      "Speed: 0.1ms preprocess, 2.2ms inference, 0.0ms loss, 0.6ms postprocess per image\n",
      "Results saved to \u001b[1m/home/forsythcreations/git/ECE4554_Project/segment/train9\u001b[0m\n"
     ]
    }
   ],
   "source": [
    "# train a yolo model based on the dataset\n",
    "\n",
    "# model for segmentation\n",
    "model = YOLO('yolov8n-seg.pt')\n",
    "\n",
    "results = model.train(data=f\"/home/forsythcreations/git/ECE4554_Project/initial/rpc/{zip_to}/data.yaml\", model=\"yolov8s.pt\", task=\"segment\", epochs=20, imgsz=640, batch=20)"
   ]
  },
  {
   "cell_type": "code",
   "execution_count": 45,
   "metadata": {},
   "outputs": [],
   "source": [
    "# use the results to predict the images\n",
    "num = 9\n",
    "\n",
    "# path to trained weights\n",
    "weights_path = f\"../../segment/train{num}/weights/best.pt\"\n",
    "\n",
    "new_model = YOLO(weights_path, task=\"segment\")"
   ]
  },
  {
   "cell_type": "code",
   "execution_count": null,
   "metadata": {},
   "outputs": [],
   "source": [
    "# start webcam\n",
    "cap = cv2.VideoCapture(0)\n",
    "cap.set(3, 640)\n",
    "cap.set(4, 480)\n",
    "\n",
    "# object classes\n",
    "classNames = [\"rock\", \"paper\", \"scissors\"]\n",
    "\n",
    "while True:\n",
    "    success, img = cap.read()\n",
    "    results = new_model(img)\n",
    "\n",
    "    # coordinates\n",
    "    for r in results:\n",
    "        x1, y1, x2, y2 = r  # Adjust this line based on the output structure of the detect function\n",
    "\n",
    "        # convert to int values\n",
    "        x1, y1, x2, y2 = int(x1), int(y1), int(x2), int(y2)\n",
    "\n",
    "        # put box in cam\n",
    "        cv2.rectangle(img, (x1, y1), (x2, y2), (255, 0, 255), 3)\n",
    "\n",
    "        # confidence\n",
    "        confidence = math.ceil((r.confidence * 100)) / 100\n",
    "\n",
    "        # class name\n",
    "        cls = int(r.class_id)\n",
    "        class_name = classNames[cls]\n",
    "\n",
    "        # object details\n",
    "        org = [x1, y1 + 100]\n",
    "        font = cv2.FONT_HERSHEY_SIMPLEX\n",
    "        fontScale = 1\n",
    "        color = (255, 0, 0)\n",
    "        thickness = 2\n",
    "\n",
    "        cv2.putText(img, class_name, org, font, fontScale, color, thickness)\n",
    "\n",
    "    cv2.imshow('Webcam', img)\n",
    "    if cv2.waitKey(1) == ord('q'):\n",
    "        break\n",
    "\n",
    "cap.release()\n",
    "cv2.destroyAllWindows()"
   ]
  },
  {
   "cell_type": "code",
   "execution_count": 46,
   "metadata": {},
   "outputs": [
    {
     "data": {
      "application/vnd.plotly.v1+json": {
       "config": {
        "plotlyServerURL": "https://plot.ly"
       },
       "data": [
        {
         "hovertemplate": "x: %{x}<br>y: %{y}<br>color: [%{z[0]}, %{z[1]}, %{z[2]}]<extra></extra>",
         "name": "0",
         "source": "data:image/png;base64,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",
         "type": "image",
         "xaxis": "x",
         "yaxis": "y"
        }
       ],
       "layout": {
        "margin": {
         "t": 60
        },
        "template": {
         "data": {
          "bar": [
           {
            "error_x": {
             "color": "#2a3f5f"
            },
            "error_y": {
             "color": "#2a3f5f"
            },
            "marker": {
             "line": {
              "color": "#E5ECF6",
              "width": 0.5
             },
             "pattern": {
              "fillmode": "overlay",
              "size": 10,
              "solidity": 0.2
             }
            },
            "type": "bar"
           }
          ],
          "barpolar": [
           {
            "marker": {
             "line": {
              "color": "#E5ECF6",
              "width": 0.5
             },
             "pattern": {
              "fillmode": "overlay",
              "size": 10,
              "solidity": 0.2
             }
            },
            "type": "barpolar"
           }
          ],
          "carpet": [
           {
            "aaxis": {
             "endlinecolor": "#2a3f5f",
             "gridcolor": "white",
             "linecolor": "white",
             "minorgridcolor": "white",
             "startlinecolor": "#2a3f5f"
            },
            "baxis": {
             "endlinecolor": "#2a3f5f",
             "gridcolor": "white",
             "linecolor": "white",
             "minorgridcolor": "white",
             "startlinecolor": "#2a3f5f"
            },
            "type": "carpet"
           }
          ],
          "choropleth": [
           {
            "colorbar": {
             "outlinewidth": 0,
             "ticks": ""
            },
            "type": "choropleth"
           }
          ],
          "contour": [
           {
            "colorbar": {
             "outlinewidth": 0,
             "ticks": ""
            },
            "colorscale": [
             [
              0,
              "#0d0887"
             ],
             [
              0.1111111111111111,
              "#46039f"
             ],
             [
              0.2222222222222222,
              "#7201a8"
             ],
             [
              0.3333333333333333,
              "#9c179e"
             ],
             [
              0.4444444444444444,
              "#bd3786"
             ],
             [
              0.5555555555555556,
              "#d8576b"
             ],
             [
              0.6666666666666666,
              "#ed7953"
             ],
             [
              0.7777777777777778,
              "#fb9f3a"
             ],
             [
              0.8888888888888888,
              "#fdca26"
             ],
             [
              1,
              "#f0f921"
             ]
            ],
            "type": "contour"
           }
          ],
          "contourcarpet": [
           {
            "colorbar": {
             "outlinewidth": 0,
             "ticks": ""
            },
            "type": "contourcarpet"
           }
          ],
          "heatmap": [
           {
            "colorbar": {
             "outlinewidth": 0,
             "ticks": ""
            },
            "colorscale": [
             [
              0,
              "#0d0887"
             ],
             [
              0.1111111111111111,
              "#46039f"
             ],
             [
              0.2222222222222222,
              "#7201a8"
             ],
             [
              0.3333333333333333,
              "#9c179e"
             ],
             [
              0.4444444444444444,
              "#bd3786"
             ],
             [
              0.5555555555555556,
              "#d8576b"
             ],
             [
              0.6666666666666666,
              "#ed7953"
             ],
             [
              0.7777777777777778,
              "#fb9f3a"
             ],
             [
              0.8888888888888888,
              "#fdca26"
             ],
             [
              1,
              "#f0f921"
             ]
            ],
            "type": "heatmap"
           }
          ],
          "heatmapgl": [
           {
            "colorbar": {
             "outlinewidth": 0,
             "ticks": ""
            },
            "colorscale": [
             [
              0,
              "#0d0887"
             ],
             [
              0.1111111111111111,
              "#46039f"
             ],
             [
              0.2222222222222222,
              "#7201a8"
             ],
             [
              0.3333333333333333,
              "#9c179e"
             ],
             [
              0.4444444444444444,
              "#bd3786"
             ],
             [
              0.5555555555555556,
              "#d8576b"
             ],
             [
              0.6666666666666666,
              "#ed7953"
             ],
             [
              0.7777777777777778,
              "#fb9f3a"
             ],
             [
              0.8888888888888888,
              "#fdca26"
             ],
             [
              1,
              "#f0f921"
             ]
            ],
            "type": "heatmapgl"
           }
          ],
          "histogram": [
           {
            "marker": {
             "pattern": {
              "fillmode": "overlay",
              "size": 10,
              "solidity": 0.2
             }
            },
            "type": "histogram"
           }
          ],
          "histogram2d": [
           {
            "colorbar": {
             "outlinewidth": 0,
             "ticks": ""
            },
            "colorscale": [
             [
              0,
              "#0d0887"
             ],
             [
              0.1111111111111111,
              "#46039f"
             ],
             [
              0.2222222222222222,
              "#7201a8"
             ],
             [
              0.3333333333333333,
              "#9c179e"
             ],
             [
              0.4444444444444444,
              "#bd3786"
             ],
             [
              0.5555555555555556,
              "#d8576b"
             ],
             [
              0.6666666666666666,
              "#ed7953"
             ],
             [
              0.7777777777777778,
              "#fb9f3a"
             ],
             [
              0.8888888888888888,
              "#fdca26"
             ],
             [
              1,
              "#f0f921"
             ]
            ],
            "type": "histogram2d"
           }
          ],
          "histogram2dcontour": [
           {
            "colorbar": {
             "outlinewidth": 0,
             "ticks": ""
            },
            "colorscale": [
             [
              0,
              "#0d0887"
             ],
             [
              0.1111111111111111,
              "#46039f"
             ],
             [
              0.2222222222222222,
              "#7201a8"
             ],
             [
              0.3333333333333333,
              "#9c179e"
             ],
             [
              0.4444444444444444,
              "#bd3786"
             ],
             [
              0.5555555555555556,
              "#d8576b"
             ],
             [
              0.6666666666666666,
              "#ed7953"
             ],
             [
              0.7777777777777778,
              "#fb9f3a"
             ],
             [
              0.8888888888888888,
              "#fdca26"
             ],
             [
              1,
              "#f0f921"
             ]
            ],
            "type": "histogram2dcontour"
           }
          ],
          "mesh3d": [
           {
            "colorbar": {
             "outlinewidth": 0,
             "ticks": ""
            },
            "type": "mesh3d"
           }
          ],
          "parcoords": [
           {
            "line": {
             "colorbar": {
              "outlinewidth": 0,
              "ticks": ""
             }
            },
            "type": "parcoords"
           }
          ],
          "pie": [
           {
            "automargin": true,
            "type": "pie"
           }
          ],
          "scatter": [
           {
            "fillpattern": {
             "fillmode": "overlay",
             "size": 10,
             "solidity": 0.2
            },
            "type": "scatter"
           }
          ],
          "scatter3d": [
           {
            "line": {
             "colorbar": {
              "outlinewidth": 0,
              "ticks": ""
             }
            },
            "marker": {
             "colorbar": {
              "outlinewidth": 0,
              "ticks": ""
             }
            },
            "type": "scatter3d"
           }
          ],
          "scattercarpet": [
           {
            "marker": {
             "colorbar": {
              "outlinewidth": 0,
              "ticks": ""
             }
            },
            "type": "scattercarpet"
           }
          ],
          "scattergeo": [
           {
            "marker": {
             "colorbar": {
              "outlinewidth": 0,
              "ticks": ""
             }
            },
            "type": "scattergeo"
           }
          ],
          "scattergl": [
           {
            "marker": {
             "colorbar": {
              "outlinewidth": 0,
              "ticks": ""
             }
            },
            "type": "scattergl"
           }
          ],
          "scattermapbox": [
           {
            "marker": {
             "colorbar": {
              "outlinewidth": 0,
              "ticks": ""
             }
            },
            "type": "scattermapbox"
           }
          ],
          "scatterpolar": [
           {
            "marker": {
             "colorbar": {
              "outlinewidth": 0,
              "ticks": ""
             }
            },
            "type": "scatterpolar"
           }
          ],
          "scatterpolargl": [
           {
            "marker": {
             "colorbar": {
              "outlinewidth": 0,
              "ticks": ""
             }
            },
            "type": "scatterpolargl"
           }
          ],
          "scatterternary": [
           {
            "marker": {
             "colorbar": {
              "outlinewidth": 0,
              "ticks": ""
             }
            },
            "type": "scatterternary"
           }
          ],
          "surface": [
           {
            "colorbar": {
             "outlinewidth": 0,
             "ticks": ""
            },
            "colorscale": [
             [
              0,
              "#0d0887"
             ],
             [
              0.1111111111111111,
              "#46039f"
             ],
             [
              0.2222222222222222,
              "#7201a8"
             ],
             [
              0.3333333333333333,
              "#9c179e"
             ],
             [
              0.4444444444444444,
              "#bd3786"
             ],
             [
              0.5555555555555556,
              "#d8576b"
             ],
             [
              0.6666666666666666,
              "#ed7953"
             ],
             [
              0.7777777777777778,
              "#fb9f3a"
             ],
             [
              0.8888888888888888,
              "#fdca26"
             ],
             [
              1,
              "#f0f921"
             ]
            ],
            "type": "surface"
           }
          ],
          "table": [
           {
            "cells": {
             "fill": {
              "color": "#EBF0F8"
             },
             "line": {
              "color": "white"
             }
            },
            "header": {
             "fill": {
              "color": "#C8D4E3"
             },
             "line": {
              "color": "white"
             }
            },
            "type": "table"
           }
          ]
         },
         "layout": {
          "annotationdefaults": {
           "arrowcolor": "#2a3f5f",
           "arrowhead": 0,
           "arrowwidth": 1
          },
          "autotypenumbers": "strict",
          "coloraxis": {
           "colorbar": {
            "outlinewidth": 0,
            "ticks": ""
           }
          },
          "colorscale": {
           "diverging": [
            [
             0,
             "#8e0152"
            ],
            [
             0.1,
             "#c51b7d"
            ],
            [
             0.2,
             "#de77ae"
            ],
            [
             0.3,
             "#f1b6da"
            ],
            [
             0.4,
             "#fde0ef"
            ],
            [
             0.5,
             "#f7f7f7"
            ],
            [
             0.6,
             "#e6f5d0"
            ],
            [
             0.7,
             "#b8e186"
            ],
            [
             0.8,
             "#7fbc41"
            ],
            [
             0.9,
             "#4d9221"
            ],
            [
             1,
             "#276419"
            ]
           ],
           "sequential": [
            [
             0,
             "#0d0887"
            ],
            [
             0.1111111111111111,
             "#46039f"
            ],
            [
             0.2222222222222222,
             "#7201a8"
            ],
            [
             0.3333333333333333,
             "#9c179e"
            ],
            [
             0.4444444444444444,
             "#bd3786"
            ],
            [
             0.5555555555555556,
             "#d8576b"
            ],
            [
             0.6666666666666666,
             "#ed7953"
            ],
            [
             0.7777777777777778,
             "#fb9f3a"
            ],
            [
             0.8888888888888888,
             "#fdca26"
            ],
            [
             1,
             "#f0f921"
            ]
           ],
           "sequentialminus": [
            [
             0,
             "#0d0887"
            ],
            [
             0.1111111111111111,
             "#46039f"
            ],
            [
             0.2222222222222222,
             "#7201a8"
            ],
            [
             0.3333333333333333,
             "#9c179e"
            ],
            [
             0.4444444444444444,
             "#bd3786"
            ],
            [
             0.5555555555555556,
             "#d8576b"
            ],
            [
             0.6666666666666666,
             "#ed7953"
            ],
            [
             0.7777777777777778,
             "#fb9f3a"
            ],
            [
             0.8888888888888888,
             "#fdca26"
            ],
            [
             1,
             "#f0f921"
            ]
           ]
          },
          "colorway": [
           "#636efa",
           "#EF553B",
           "#00cc96",
           "#ab63fa",
           "#FFA15A",
           "#19d3f3",
           "#FF6692",
           "#B6E880",
           "#FF97FF",
           "#FECB52"
          ],
          "font": {
           "color": "#2a3f5f"
          },
          "geo": {
           "bgcolor": "white",
           "lakecolor": "white",
           "landcolor": "#E5ECF6",
           "showlakes": true,
           "showland": true,
           "subunitcolor": "white"
          },
          "hoverlabel": {
           "align": "left"
          },
          "hovermode": "closest",
          "mapbox": {
           "style": "light"
          },
          "paper_bgcolor": "white",
          "plot_bgcolor": "#E5ECF6",
          "polar": {
           "angularaxis": {
            "gridcolor": "white",
            "linecolor": "white",
            "ticks": ""
           },
           "bgcolor": "#E5ECF6",
           "radialaxis": {
            "gridcolor": "white",
            "linecolor": "white",
            "ticks": ""
           }
          },
          "scene": {
           "xaxis": {
            "backgroundcolor": "#E5ECF6",
            "gridcolor": "white",
            "gridwidth": 2,
            "linecolor": "white",
            "showbackground": true,
            "ticks": "",
            "zerolinecolor": "white"
           },
           "yaxis": {
            "backgroundcolor": "#E5ECF6",
            "gridcolor": "white",
            "gridwidth": 2,
            "linecolor": "white",
            "showbackground": true,
            "ticks": "",
            "zerolinecolor": "white"
           },
           "zaxis": {
            "backgroundcolor": "#E5ECF6",
            "gridcolor": "white",
            "gridwidth": 2,
            "linecolor": "white",
            "showbackground": true,
            "ticks": "",
            "zerolinecolor": "white"
           }
          },
          "shapedefaults": {
           "line": {
            "color": "#2a3f5f"
           }
          },
          "ternary": {
           "aaxis": {
            "gridcolor": "white",
            "linecolor": "white",
            "ticks": ""
           },
           "baxis": {
            "gridcolor": "white",
            "linecolor": "white",
            "ticks": ""
           },
           "bgcolor": "#E5ECF6",
           "caxis": {
            "gridcolor": "white",
            "linecolor": "white",
            "ticks": ""
           }
          },
          "title": {
           "x": 0.05
          },
          "xaxis": {
           "automargin": true,
           "gridcolor": "white",
           "linecolor": "white",
           "ticks": "",
           "title": {
            "standoff": 15
           },
           "zerolinecolor": "white",
           "zerolinewidth": 2
          },
          "yaxis": {
           "automargin": true,
           "gridcolor": "white",
           "linecolor": "white",
           "ticks": "",
           "title": {
            "standoff": 15
           },
           "zerolinecolor": "white",
           "zerolinewidth": 2
          }
         }
        },
        "xaxis": {
         "anchor": "y",
         "domain": [
          0,
          1
         ]
        },
        "yaxis": {
         "anchor": "x",
         "domain": [
          0,
          1
         ]
        }
       }
      }
     },
     "metadata": {},
     "output_type": "display_data"
    }
   ],
   "source": [
    "test_image = cv2.imread(f\"{zip_to}/valid/images/testpaper01-13_png_jpg.rf.e5ef34d25961e6f3050f79361873389c.jpg\")\n",
    "\n",
    "# show the image in Jupyter notebook\n",
    "test_image = cv2.cvtColor(test_image, cv2.COLOR_BGR2RGB)\n",
    "fig = px.imshow(test_image)\n",
    "fig.show()"
   ]
  },
  {
   "cell_type": "code",
   "execution_count": 75,
   "metadata": {},
   "outputs": [],
   "source": [
    "def predict_on_image(model, img, conf = .3):\n",
    "    result = model(img)[0]\n",
    "\n",
    "    # detection\n",
    "    # result.boxes.xyxy   # box with xyxy format, (N, 4)\n",
    "    cls = result.boxes.cls.cpu().numpy()    # cls, (N, 1)\n",
    "    probs = result.boxes.conf.cpu().numpy()  # confidence score, (N, 1)\n",
    "    boxes = result.boxes.xyxy.cpu().numpy()   # box with xyxy format, (N, 4)\n",
    "\n",
    "    # segmentation\n",
    "    masks = result.masks.cpu().numpy()     # masks, (N, H, W)\n",
    "    # masks = np.moveaxis(masks, 0, -1) # masks, (H, W, N)\n",
    "    # # rescale masks to original image\n",
    "    # masks = scale_image(masks, img.shape[0], img.shape[1])\n",
    "\n",
    "    return boxes, masks, cls, probs"
   ]
  },
  {
   "cell_type": "code",
   "execution_count": 67,
   "metadata": {},
   "outputs": [
    {
     "name": "stderr",
     "output_type": "stream",
     "text": [
      "\n",
      "0: 640x640 1 scissors, 5.2ms\n",
      "Speed: 1.4ms preprocess, 5.2ms inference, 2.0ms postprocess per image at shape (1, 3, 640, 640)\n"
     ]
    }
   ],
   "source": [
    "output = new_model(test_image)\n",
    "\n",
    "output[0].masks.cpu().numpy();"
   ]
  },
  {
   "cell_type": "code",
   "execution_count": 80,
   "metadata": {},
   "outputs": [
    {
     "name": "stderr",
     "output_type": "stream",
     "text": [
      "\n",
      "0: 640x640 1 scissors, 5.2ms\n",
      "Speed: 2.1ms preprocess, 5.2ms inference, 1.3ms postprocess per image at shape (1, 3, 640, 640)\n"
     ]
    },
    {
     "ename": "AttributeError",
     "evalue": "'Masks' object has no attribute 'xy'. See valid attributes below.\n\n    A class for storing and manipulating detection masks.\n\n    Attributes:\n        xy (list): A list of segments in pixel coordinates.\n        xyn (list): A list of normalized segments.\n\n    Methods:\n        cpu(): Returns the masks tensor on CPU memory.\n        numpy(): Returns the masks tensor as a numpy array.\n        cuda(): Returns the masks tensor on GPU memory.\n        to(device, dtype): Returns the masks tensor with the specified device and dtype.\n    ",
     "output_type": "error",
     "traceback": [
      "\u001b[0;31m---------------------------------------------------------------------------\u001b[0m",
      "\u001b[0;31mAttributeError\u001b[0m                            Traceback (most recent call last)",
      "\u001b[1;32m/home/forsythcreations/git/ECE4554_Project/initial/rpc/initial2.ipynb Cell 13\u001b[0m line \u001b[0;36m3\n\u001b[1;32m      <a href='vscode-notebook-cell:/home/forsythcreations/git/ECE4554_Project/initial/rpc/initial2.ipynb#X16sZmlsZQ%3D%3D?line=0'>1</a>\u001b[0m boxes, masks, \u001b[39mcls\u001b[39m, probs \u001b[39m=\u001b[39m predict_on_image(new_model, test_image)\n\u001b[0;32m----> <a href='vscode-notebook-cell:/home/forsythcreations/git/ECE4554_Project/initial/rpc/initial2.ipynb#X16sZmlsZQ%3D%3D?line=2'>3</a>\u001b[0m \u001b[39mprint\u001b[39;49m(masks\u001b[39m.\u001b[39;49mnumpy())\n",
      "File \u001b[0;32m~/git/ECE4554_Project/initial/.venv/lib/python3.10/site-packages/ultralytics/utils/__init__.py:136\u001b[0m, in \u001b[0;36mSimpleClass.__str__\u001b[0;34m(self)\u001b[0m\n\u001b[1;32m    134\u001b[0m attr \u001b[39m=\u001b[39m []\n\u001b[1;32m    135\u001b[0m \u001b[39mfor\u001b[39;00m a \u001b[39min\u001b[39;00m \u001b[39mdir\u001b[39m(\u001b[39mself\u001b[39m):\n\u001b[0;32m--> 136\u001b[0m     v \u001b[39m=\u001b[39m \u001b[39mgetattr\u001b[39;49m(\u001b[39mself\u001b[39;49m, a)\n\u001b[1;32m    137\u001b[0m     \u001b[39mif\u001b[39;00m \u001b[39mnot\u001b[39;00m \u001b[39mcallable\u001b[39m(v) \u001b[39mand\u001b[39;00m \u001b[39mnot\u001b[39;00m a\u001b[39m.\u001b[39mstartswith(\u001b[39m'\u001b[39m\u001b[39m_\u001b[39m\u001b[39m'\u001b[39m):\n\u001b[1;32m    138\u001b[0m         \u001b[39mif\u001b[39;00m \u001b[39misinstance\u001b[39m(v, SimpleClass):\n\u001b[1;32m    139\u001b[0m             \u001b[39m# Display only the module and class name for subclasses\u001b[39;00m\n",
      "File \u001b[0;32m~/git/ECE4554_Project/initial/.venv/lib/python3.10/site-packages/ultralytics/utils/__init__.py:153\u001b[0m, in \u001b[0;36mSimpleClass.__getattr__\u001b[0;34m(self, attr)\u001b[0m\n\u001b[1;32m    151\u001b[0m \u001b[39m\u001b[39m\u001b[39m\"\"\"Custom attribute access error message with helpful information.\"\"\"\u001b[39;00m\n\u001b[1;32m    152\u001b[0m name \u001b[39m=\u001b[39m \u001b[39mself\u001b[39m\u001b[39m.\u001b[39m\u001b[39m__class__\u001b[39m\u001b[39m.\u001b[39m\u001b[39m__name__\u001b[39m\n\u001b[0;32m--> 153\u001b[0m \u001b[39mraise\u001b[39;00m \u001b[39mAttributeError\u001b[39;00m(\u001b[39mf\u001b[39m\u001b[39m\"\u001b[39m\u001b[39m'\u001b[39m\u001b[39m{\u001b[39;00mname\u001b[39m}\u001b[39;00m\u001b[39m'\u001b[39m\u001b[39m object has no attribute \u001b[39m\u001b[39m'\u001b[39m\u001b[39m{\u001b[39;00mattr\u001b[39m}\u001b[39;00m\u001b[39m'\u001b[39m\u001b[39m. See valid attributes below.\u001b[39m\u001b[39m\\n\u001b[39;00m\u001b[39m{\u001b[39;00m\u001b[39mself\u001b[39m\u001b[39m.\u001b[39m\u001b[39m__doc__\u001b[39m\u001b[39m}\u001b[39;00m\u001b[39m\"\u001b[39m)\n",
      "\u001b[0;31mAttributeError\u001b[0m: 'Masks' object has no attribute 'xy'. See valid attributes below.\n\n    A class for storing and manipulating detection masks.\n\n    Attributes:\n        xy (list): A list of segments in pixel coordinates.\n        xyn (list): A list of normalized segments.\n\n    Methods:\n        cpu(): Returns the masks tensor on CPU memory.\n        numpy(): Returns the masks tensor as a numpy array.\n        cuda(): Returns the masks tensor on GPU memory.\n        to(device, dtype): Returns the masks tensor with the specified device and dtype.\n    "
     ]
    }
   ],
   "source": [
    "boxes, masks, cls, probs = predict_on_image(new_model, test_image)\n",
    "\n",
    "print(masks.numpy())"
   ]
  },
  {
   "cell_type": "code",
   "execution_count": null,
   "metadata": {},
   "outputs": [],
   "source": [
    "# start webcam\n",
    "cap = cv2.VideoCapture(0)\n",
    "cap.set(3, 640)\n",
    "cap.set(4, 480)\n",
    "\n",
    "\n",
    "# object classes\n",
    "classNames = [\"rock\", \"paper\", \"scissors\"]\n",
    "\n",
    "while True:\n",
    "    success, img = cap.read()\n",
    "    results = new_model.predict(img, stream=True)\n",
    "\n",
    "    try: \n",
    "        print(type(results))\n",
    "\n",
    "        # # coordinates\n",
    "        # for r in results:\n",
    "        #     boxes = r.boxes\n",
    "\n",
    "        #     for box in boxes:\n",
    "        #         # bounding box\n",
    "        #         x1, y1, x2, y2 = box.xyxy[0]\n",
    "        #         x1, y1, x2, y2 = int(x1), int(y1), int(x2), int(y2) # convert to int values\n",
    "\n",
    "        #         # put box in cam\n",
    "        #         cv2.rectangle(img, (x1, y1), (x2, y2), (255, 0, 255), 3)\n",
    "\n",
    "        #         # confidence\n",
    "        #         confidence = math.ceil((box.conf[0]*100))/100\n",
    "        #         # print(\"Confidence --->\",confidence)\n",
    "\n",
    "        #         # class name\n",
    "        #         cls = int(box.cls[0])\n",
    "        #         # print(\"Class name -->\", classNames[cls])\n",
    "\n",
    "        #         # object details\n",
    "        #         org = [x1, y1 + 100]\n",
    "        #         font = cv2.FONT_HERSHEY_SIMPLEX\n",
    "        #         fontScale = 1\n",
    "        #         color = (255, 0, 0)\n",
    "        #         thickness = 2\n",
    "\n",
    "        #         cv2.putText(img, classNames[cls], org, font, fontScale, color, thickness)\n",
    "\n",
    "            # print(img.shape)\n",
    "            # cv2.imshow('Webcam', img)\n",
    "            # if cv2.waitKey(1) == ord('q'):\n",
    "            #     break\n",
    "    except Exception as e:\n",
    "        print(f\"{Fore.RED}Error: {e}{Fore.RESET}\")\n",
    "        break\n",
    "\n",
    "cap.release()\n",
    "cv2.destroyAllWindows()"
   ]
  },
  {
   "cell_type": "code",
   "execution_count": null,
   "metadata": {},
   "outputs": [],
   "source": [
    "cap.release()\n",
    "cv2.destroyAllWindows()"
   ]
  }
 ],
 "metadata": {
  "kernelspec": {
   "display_name": ".venv",
   "language": "python",
   "name": "python3"
  },
  "language_info": {
   "codemirror_mode": {
    "name": "ipython",
    "version": 3
   },
   "file_extension": ".py",
   "mimetype": "text/x-python",
   "name": "python",
   "nbconvert_exporter": "python",
   "pygments_lexer": "ipython3",
   "version": "3.10.12"
  }
 },
 "nbformat": 4,
 "nbformat_minor": 2
}
